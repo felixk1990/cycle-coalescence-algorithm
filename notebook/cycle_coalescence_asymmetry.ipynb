{
 "cells": [
  {
   "cell_type": "code",
   "execution_count": 1,
   "metadata": {},
   "outputs": [
    {
     "name": "stdout",
     "output_type": "stream",
     "text": [
      "Initializing gradient pattern\n"
     ]
    },
    {
     "data": {
      "image/png": "[encoded data removed]",
      "text/plain": [
       "<Figure size 432x288 with 1 Axes>"
      ]
     },
     "metadata": {
      "needs_background": "light"
     },
     "output_type": "display_data"
    }
   ],
   "source": [
    "import networkx as nx\n",
    "import matplotlib.pyplot as plt\n",
    "from cycle_analysis.cycle_tools_coalescence import Coalescence\n",
    "from cycle_analysis.cycle_custom_pattern import generate_pattern\n",
    "from cycle_analysis.cycle_tools_simple import construct_networkx_basis\n",
    "\n",
    "# generate a dummy graph for testing\n",
    "# put an edge weight distribution on the system, available are random/gradient/bigradient/nested_square\n",
    "n = 7\n",
    "unweightedG = nx.grid_graph((n, n, 1))\n",
    "weightedG = generate_pattern(unweightedG, 'gradient')\n",
    "pos = nx.get_node_attributes(weightedG, 'pos')\n",
    "\n",
    "# merge all shortest cycles and create merging tree, then calc asymmetry of the tree's branches\n",
    "T = Coalescence()\n",
    "\n",
    "minimum_basis = construct_networkx_basis(weightedG)\n",
    "cycle_tree = T.calc_cycle_coalescence(weightedG, minimum_basis)\n",
    "dict_asymmetry = T.calc_tree_asymmetry(cycle_tree)\n",
    "\n",
    "# plot branching asymmetry in dependence of branching level\n",
    "x = [(cycle_tree.nodes[n]['pos'][1]-6)/2. for n in dict_asymmetry]\n",
    "y = [dict_asymmetry[n] for n in dict_asymmetry]\n",
    "\n",
    "plt.scatter(x,y)\n",
    "plt.ylabel('asymmetry')\n",
    "plt.xlabel('branching level')\n",
    "plt.grid(True)\n",
    "plt.show()"
   ]
  }
 ],
 "metadata": {
  "kernelspec": {
   "display_name": "Python 3",
   "language": "python",
   "name": "python3"
  },
  "language_info": {
   "codemirror_mode": {
    "name": "ipython",
    "version": 3
   },
   "file_extension": ".py",
   "mimetype": "text/x-python",
   "name": "python",
   "nbconvert_exporter": "python",
   "pygments_lexer": "ipython3",
   "version": "3.7.3"
  }
 },
 "nbformat": 4,
 "nbformat_minor": 4
}
