{
 "cells": [
  {
   "cell_type": "code",
   "execution_count": 1,
   "metadata": {},
   "outputs": [
    {
     "data": {
      "image/png": "[encoded data removed]",
      "text/plain": [
       "<Figure size 432x288 with 1 Axes>"
      ]
     },
     "metadata": {
      "needs_background": "light"
     },
     "output_type": "display_data"
    }
   ],
   "source": [
    "import sys\n",
    "import networkx as nx\n",
    "import matplotlib.pyplot as plt\n",
    "import cycle_analysis.cycle_tools_coalescence as ctc\n",
    "import cycle_analysis.test as cat\n",
    "\n",
    "# generate a dummy graph for testing\n",
    "# put an edge weight distribution on the system, available are random/gradient/bigradient/nested_square\n",
    "n=5\n",
    "G=nx.grid_graph(( n,n,1))\n",
    "G=cat.generate_pattern(G,'random')\n",
    "\n",
    "weights=[G.edges[e]['weight'] for e in G.edges()]\n",
    "pos=nx.get_node_attributes(G,'pos')\n",
    "\n",
    "# merge all shortest cycles and create merging tree, then calc asymmetry of the tree's branches\n",
    "T=ctc.coalescence()\n",
    "minimum_basis=T.construct_minimum_basis(G)\n",
    "cycle_tree=T.calc_cycle_coalescence(G,minimum_basis)\n",
    "dict_asymmetry=T.calc_tree_asymmetry(cycle_tree)\n",
    "\n",
    "# plot branching asymmetry in dependence of branching level\n",
    "x,y=[],[]\n",
    "for n in dict_asymmetry:\n",
    "    x.append((cycle_tree.nodes[n]['pos'][1]-6)/2.)\n",
    "    y.append(dict_asymmetry[n])\n",
    "plt.scatter(x,y)\n",
    "plt.ylabel('asymmetry')\n",
    "plt.xlabel('branching level')\n",
    "plt.grid(True)\n",
    "plt.show()"
   ]
  },
  {
   "cell_type": "code",
   "execution_count": 2,
   "metadata": {},
   "outputs": [
    {
     "name": "stdout",
     "output_type": "stream",
     "text": [
      "79.6 ms ± 2.85 ms per loop (mean ± std. dev. of 7 runs, 10 loops each)\n"
     ]
    }
   ],
   "source": []
  },
  {
   "cell_type": "code",
   "execution_count": null,
   "metadata": {},
   "outputs": [],
   "source": []
  }
 ],
 "metadata": {
  "kernelspec": {
   "display_name": "Python 3",
   "language": "python",
   "name": "python3"
  },
  "language_info": {
   "codemirror_mode": {
    "name": "ipython",
    "version": 3
   },
   "file_extension": ".py",
   "mimetype": "text/x-python",
   "name": "python",
   "nbconvert_exporter": "python",
   "pygments_lexer": "ipython3",
   "version": "3.7.9"
  }
 },
 "nbformat": 4,
 "nbformat_minor": 4
}
